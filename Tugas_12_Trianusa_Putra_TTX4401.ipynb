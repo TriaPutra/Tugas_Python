{
  "nbformat": 4,
  "nbformat_minor": 0,
  "metadata": {
    "colab": {
      "name": "Tugas 12 Trianusa Putra TTX4401.ipynb",
      "provenance": [],
      "collapsed_sections": [],
      "authorship_tag": "ABX9TyOvR4bXt0j4iqjBZM1dWLdG",
      "include_colab_link": true
    },
    "kernelspec": {
      "name": "python3",
      "display_name": "Python 3"
    }
  },
  "cells": [
    {
      "cell_type": "markdown",
      "metadata": {
        "id": "view-in-github",
        "colab_type": "text"
      },
      "source": [
        "<a href=\"https://colab.research.google.com/github/TriaPutra/Tugas_Python/blob/main/Tugas_12_Trianusa_Putra_TTX4401.ipynb\" target=\"_parent\"><img src=\"https://colab.research.google.com/assets/colab-badge.svg\" alt=\"Open In Colab\"/></a>"
      ]
    },
    {
      "cell_type": "code",
      "metadata": {
        "id": "F8dZ0sAyvc5T"
      },
      "source": [
        "#TUGAS PENGGANTI PRESENSI MINGGU 12\r\n",
        "#NAMA   : TRIANUSA PUTRA\r\n",
        "#KELAS  : TTX-44-01\r\n",
        "#NIM    : 1101208130"
      ],
      "execution_count": null,
      "outputs": []
    },
    {
      "cell_type": "code",
      "metadata": {
        "id": "XokaUIC5TWWN"
      },
      "source": [
        "import numpy as np"
      ],
      "execution_count": 1,
      "outputs": []
    },
    {
      "cell_type": "code",
      "metadata": {
        "id": "CcGw29VSTqgm"
      },
      "source": [
        "def Pathloss (d,fc,Cm,ht,hr):\r\n",
        "\r\n",
        "  #mencari nilai C1 dan C2 yang bergantung pada frekuensi yang digunakan\r\n",
        "  if (400<=fc<=1500):\r\n",
        "    c1=69.55\r\n",
        "    c2=26.16\r\n",
        "  elif (1500<fc<=2000):\r\n",
        "    c1=46.3\r\n",
        "    c2=33.9\r\n",
        "\r\n",
        "  #mencari nilai a(hr)\r\n",
        "  ahr=(1.1*np.log10(fc)-0.7)*hr-(1.56*np.log10(fc)-0.8)\r\n",
        "\r\n",
        "  #mencari nilai Cm yang sesuai dengan tipe area\r\n",
        "  if (Cm==\"Urban\"):\r\n",
        "    cm=0\r\n",
        "  elif (Cm==\"Suburban\"):\r\n",
        "    cm=(-2*(np.log10(fc/28))**2)-5.4\r\n",
        "  elif (Cm==\"Open\"):\r\n",
        "    cm=(-4.78*(np.log10(fc))**2)+18.33*np.log10(fc)-40.94\r\n",
        "  \r\n",
        "  #menentukan nilai Losspath\r\n",
        "  Lp= c1+c2*np.log10(fc)-13.83*np.log10(ht)- ahr + (44.9-6.55*np.log10(ht))*np.log10(d)+cm\r\n",
        "\r\n",
        "  return Lp"
      ],
      "execution_count": 69,
      "outputs": []
    },
    {
      "cell_type": "code",
      "metadata": {
        "colab": {
          "base_uri": "https://localhost:8080/"
        },
        "id": "OioEuTHcc8k_",
        "outputId": "d8788967-aad0-4544-abb9-8c13f580afbc"
      },
      "source": [
        "Pl = Pathloss (20,2000,\"Open\",100,20)\r\n",
        "print(Pl)"
      ],
      "execution_count": 71,
      "outputs": [
        {
          "output_type": "stream",
          "text": [
            "85.12579805000597\n"
          ],
          "name": "stdout"
        }
      ]
    }
  ]
}